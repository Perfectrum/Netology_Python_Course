{
 "cells": [
  {
   "cell_type": "code",
   "execution_count": 1,
   "metadata": {},
   "outputs": [],
   "source": [
    "import  requests\n",
    "\n",
    "import pandas as pd\n",
    "import numpy as np\n",
    "import matplotlib.pyplot as plt\n",
    "\n",
    "%matplotlib inline"
   ]
  },
  {
   "cell_type": "code",
   "execution_count": 2,
   "metadata": {},
   "outputs": [],
   "source": [
    "from scipy.cluster.vq import whiten, kmeans2"
   ]
  },
  {
   "cell_type": "code",
   "execution_count": 3,
   "metadata": {},
   "outputs": [],
   "source": [
    "def call_api(uri, result_key):\n",
    "    json = {}\n",
    "    try:\n",
    "        json = requests.get(uri, headers = { 'X-Auth-Token': '6343e2401b274e4b9d3233b7291115e5' }).json()\n",
    "        return json[result_key]\n",
    "    except:\n",
    "        print(json)\n",
    "        return None"
   ]
  },
  {
   "cell_type": "code",
   "execution_count": 4,
   "metadata": {},
   "outputs": [],
   "source": [
    "teams = call_api('http://api.football-data.org/v1/soccerseasons/439/teams', 'teams')"
   ]
  },
  {
   "cell_type": "code",
   "execution_count": 5,
   "metadata": {},
   "outputs": [
    {
     "name": "stdout",
     "output_type": "stream",
     "text": [
      "Team \"FC Rio Ave\", 13 loses\n",
      "Team \"FC Porto\", 5 loses\n",
      "Team \"Moreirense FC\", 18 loses\n",
      "Team \"FC Paços de Ferreira\", 18 loses\n",
      "Team \"Sporting CP\", 7 loses\n",
      "Team \"Maritimo Funchal\", 13 loses\n",
      "Team \"CD Tondela\", 16 loses\n",
      "Team \"SL Benfica\", 9 loses\n",
      "Team \"Boavista Porto FC\", 15 loses\n",
      "Team \"FC Arouca\", 0 loses\n",
      "Team \"Vitoria Setubal\", 16 loses\n",
      "Team \"C.F. Os Belenenses\", 15 loses\n",
      "Team \"Vitoria Guimaraes\", 17 loses\n",
      "Team \"Sporting Braga\", 7 loses\n",
      "Team \"GD Estoril Praia\", 20 loses\n",
      "Team \"Feirense\", 21 loses\n",
      "Team \"Nacional Funchal\", 0 loses\n",
      "Team \"G.D. Chaves\", 13 loses\n"
     ]
    }
   ],
   "source": [
    "for team in teams:\n",
    "    fixtures = call_api(team['_links']['fixtures']['href'], 'fixtures')\n",
    "    loses = 0\n",
    "    for f in fixtures:\n",
    "        if (team['name'] == f['homeTeamName'])and(f['result']['goalsHomeTeam']<f['result']['goalsAwayTeam']):\n",
    "                loses+= 1\n",
    "        if (team['name'] == f['awayTeamName'])and(f['result']['goalsAwayTeam']<f['result']['goalsHomeTeam']):\n",
    "                loses+= 1\n",
    "    print('Team \"{}\", {} loses'.format(team['name'], loses))\n",
    "    team['loses'] = loses"
   ]
  },
  {
   "cell_type": "code",
   "execution_count": 6,
   "metadata": {},
   "outputs": [
    {
     "data": {
      "text/plain": [
       "[{'loses': 13, 'name': 'FC Rio Ave'},\n",
       " {'loses': 5, 'name': 'FC Porto'},\n",
       " {'loses': 18, 'name': 'Moreirense FC'},\n",
       " {'loses': 18, 'name': 'FC Paços de Ferreira'},\n",
       " {'loses': 7, 'name': 'Sporting CP'},\n",
       " {'loses': 13, 'name': 'Maritimo Funchal'},\n",
       " {'loses': 16, 'name': 'CD Tondela'},\n",
       " {'loses': 9, 'name': 'SL Benfica'},\n",
       " {'loses': 15, 'name': 'Boavista Porto FC'},\n",
       " {'loses': 0, 'name': 'FC Arouca'},\n",
       " {'loses': 16, 'name': 'Vitoria Setubal'},\n",
       " {'loses': 15, 'name': 'C.F. Os Belenenses'},\n",
       " {'loses': 17, 'name': 'Vitoria Guimaraes'},\n",
       " {'loses': 7, 'name': 'Sporting Braga'},\n",
       " {'loses': 20, 'name': 'GD Estoril Praia'},\n",
       " {'loses': 21, 'name': 'Feirense'},\n",
       " {'loses': 0, 'name': 'Nacional Funchal'},\n",
       " {'loses': 13, 'name': 'G.D. Chaves'}]"
      ]
     },
     "execution_count": 6,
     "metadata": {},
     "output_type": "execute_result"
    }
   ],
   "source": [
    "team_for_pd = []\n",
    "for team in teams:\n",
    "    if team['name']:\n",
    "        team_for_pd.append({'name': team['name'], 'loses': team['loses']})\n",
    "team_for_pd"
   ]
  },
  {
   "cell_type": "code",
   "execution_count": 9,
   "metadata": {},
   "outputs": [
    {
     "data": {
      "text/html": [
       "<div>\n",
       "<table border=\"1\" class=\"dataframe\">\n",
       "  <thead>\n",
       "    <tr style=\"text-align: right;\">\n",
       "      <th></th>\n",
       "      <th>loses</th>\n",
       "      <th>cost</th>\n",
       "    </tr>\n",
       "  </thead>\n",
       "  <tbody>\n",
       "    <tr>\n",
       "      <th>0</th>\n",
       "      <td>13</td>\n",
       "      <td>353706145</td>\n",
       "    </tr>\n",
       "    <tr>\n",
       "      <th>1</th>\n",
       "      <td>5</td>\n",
       "      <td>607895845</td>\n",
       "    </tr>\n",
       "    <tr>\n",
       "      <th>2</th>\n",
       "      <td>18</td>\n",
       "      <td>465084504</td>\n",
       "    </tr>\n",
       "    <tr>\n",
       "      <th>3</th>\n",
       "      <td>18</td>\n",
       "      <td>45676427</td>\n",
       "    </tr>\n",
       "    <tr>\n",
       "      <th>4</th>\n",
       "      <td>7</td>\n",
       "      <td>752031896</td>\n",
       "    </tr>\n",
       "    <tr>\n",
       "      <th>5</th>\n",
       "      <td>13</td>\n",
       "      <td>996636092</td>\n",
       "    </tr>\n",
       "    <tr>\n",
       "      <th>6</th>\n",
       "      <td>16</td>\n",
       "      <td>459551084</td>\n",
       "    </tr>\n",
       "    <tr>\n",
       "      <th>7</th>\n",
       "      <td>9</td>\n",
       "      <td>249780804</td>\n",
       "    </tr>\n",
       "    <tr>\n",
       "      <th>8</th>\n",
       "      <td>15</td>\n",
       "      <td>494899580</td>\n",
       "    </tr>\n",
       "    <tr>\n",
       "      <th>9</th>\n",
       "      <td>0</td>\n",
       "      <td>740579505</td>\n",
       "    </tr>\n",
       "    <tr>\n",
       "      <th>10</th>\n",
       "      <td>16</td>\n",
       "      <td>578076843</td>\n",
       "    </tr>\n",
       "    <tr>\n",
       "      <th>11</th>\n",
       "      <td>15</td>\n",
       "      <td>365923739</td>\n",
       "    </tr>\n",
       "    <tr>\n",
       "      <th>12</th>\n",
       "      <td>17</td>\n",
       "      <td>427824316</td>\n",
       "    </tr>\n",
       "    <tr>\n",
       "      <th>13</th>\n",
       "      <td>7</td>\n",
       "      <td>180828890</td>\n",
       "    </tr>\n",
       "    <tr>\n",
       "      <th>14</th>\n",
       "      <td>20</td>\n",
       "      <td>870305446</td>\n",
       "    </tr>\n",
       "    <tr>\n",
       "      <th>15</th>\n",
       "      <td>21</td>\n",
       "      <td>919386968</td>\n",
       "    </tr>\n",
       "    <tr>\n",
       "      <th>16</th>\n",
       "      <td>0</td>\n",
       "      <td>377412061</td>\n",
       "    </tr>\n",
       "    <tr>\n",
       "      <th>17</th>\n",
       "      <td>13</td>\n",
       "      <td>85212751</td>\n",
       "    </tr>\n",
       "  </tbody>\n",
       "</table>\n",
       "</div>"
      ],
      "text/plain": [
       "    loses       cost\n",
       "0      13  353706145\n",
       "1       5  607895845\n",
       "2      18  465084504\n",
       "3      18   45676427\n",
       "4       7  752031896\n",
       "5      13  996636092\n",
       "6      16  459551084\n",
       "7       9  249780804\n",
       "8      15  494899580\n",
       "9       0  740579505\n",
       "10     16  578076843\n",
       "11     15  365923739\n",
       "12     17  427824316\n",
       "13      7  180828890\n",
       "14     20  870305446\n",
       "15     21  919386968\n",
       "16      0  377412061\n",
       "17     13   85212751"
      ]
     },
     "execution_count": 9,
     "metadata": {},
     "output_type": "execute_result"
    }
   ],
   "source": [
    "teams_pd = pd.DataFrame(team_for_pd)\n",
    "teams_pd['cost'] = np.random.randint(1000000,1000000000, size=len(teams_pd['loses']))\n",
    "del teams_pd['name']\n",
    "teams_pd"
   ]
  },
  {
   "cell_type": "code",
   "execution_count": 11,
   "metadata": {},
   "outputs": [
    {
     "data": {
      "text/plain": [
       "array([[ 2.10231472,  1.31404323],\n",
       "       [ 0.80858258,  2.25837586],\n",
       "       [ 2.9108973 ,  1.72782168],\n",
       "       [ 2.9108973 ,  0.16969114],\n",
       "       [ 1.13201562,  2.79385144],\n",
       "       [ 2.10231472,  3.70257325],\n",
       "       [ 2.58746427,  1.70726463],\n",
       "       [ 1.45544865,  0.92795327],\n",
       "       [ 2.42574775,  1.83858678],\n",
       "       [ 0.        ,  2.751305  ],\n",
       "       [ 2.58746427,  2.14759617],\n",
       "       [ 2.42574775,  1.35943245],\n",
       "       [ 2.74918079,  1.58939746],\n",
       "       [ 1.13201562,  0.67179206],\n",
       "       [ 3.23433034,  3.23324601],\n",
       "       [ 3.39604685,  3.41558732],\n",
       "       [ 0.        ,  1.40211238],\n",
       "       [ 2.10231472,  0.31657137]])"
      ]
     },
     "execution_count": 11,
     "metadata": {},
     "output_type": "execute_result"
    }
   ],
   "source": [
    "whitened = whiten(teams_pd.as_matrix())\n",
    "whitened"
   ]
  },
  {
   "cell_type": "code",
   "execution_count": 12,
   "metadata": {},
   "outputs": [
    {
     "name": "stderr",
     "output_type": "stream",
     "text": [
      "d:\\python\\lib\\site-packages\\scipy\\cluster\\vq.py:660: UserWarning: One of the clusters is empty. Re-run kmean with a different initialization.\n",
      "  warnings.warn(\"One of the clusters is empty. \"\n"
     ]
    },
    {
     "data": {
      "text/plain": [
       "(array([[ 2.9108973 ,  3.45046886],\n",
       "        [ 0.48514955,  2.30141117],\n",
       "        [ 2.30813574,  1.25183184]]),\n",
       " array([2, 1, 2, 2, 1, 0, 2, 2, 2, 1, 2, 2, 2, 2, 0, 0, 1, 2]))"
      ]
     },
     "execution_count": 12,
     "metadata": {},
     "output_type": "execute_result"
    }
   ],
   "source": [
    "centroids, cluster_map = kmeans2(whitened, 3)\n",
    "centroids, cluster_map"
   ]
  },
  {
   "cell_type": "code",
   "execution_count": 13,
   "metadata": {},
   "outputs": [
    {
     "data": {
      "text/plain": [
       "['b',\n",
       " 'g',\n",
       " 'b',\n",
       " 'b',\n",
       " 'g',\n",
       " 'r',\n",
       " 'b',\n",
       " 'b',\n",
       " 'b',\n",
       " 'g',\n",
       " 'b',\n",
       " 'b',\n",
       " 'b',\n",
       " 'b',\n",
       " 'r',\n",
       " 'r',\n",
       " 'g',\n",
       " 'b']"
      ]
     },
     "execution_count": 13,
     "metadata": {},
     "output_type": "execute_result"
    }
   ],
   "source": [
    "colors_map = {0: 'r', 1: 'g', 2: 'b', 3: 'y', 4: 'm'}\n",
    "colors = [colors_map[c] for c in cluster_map]\n",
    "colors"
   ]
  },
  {
   "cell_type": "code",
   "execution_count": 14,
   "metadata": {},
   "outputs": [
    {
     "data": {
      "text/plain": [
       "<matplotlib.axes._subplots.AxesSubplot at 0x7ebe290>"
      ]
     },
     "execution_count": 14,
     "metadata": {},
     "output_type": "execute_result"
    },
    {
     "data": {
      "image/png": "[encoded data removed]",
      "text/plain": [
       "<matplotlib.figure.Figure at 0x7ebea70>"
      ]
     },
     "metadata": {},
     "output_type": "display_data"
    }
   ],
   "source": [
    "teams_pd.plot.scatter(x='cost', y='loses', c=colors, s=100)"
   ]
  },
  {
   "cell_type": "code",
   "execution_count": 15,
   "metadata": {},
   "outputs": [
    {
     "data": {
      "text/plain": [
       "(array([[ 2.9108973 ,  3.45046886],\n",
       "        [ 0.48514955,  2.30141117],\n",
       "        [ 2.30813574,  1.25183184]]),\n",
       " array([3, 2, 3, 3, 2, 4, 3, 0, 3, 2, 3, 3, 3, 0, 1, 1, 0, 3]))"
      ]
     },
     "execution_count": 15,
     "metadata": {},
     "output_type": "execute_result"
    }
   ],
   "source": [
    "centroidscentroid , cluster_map = kmeans2(whitened, 5)\n",
    "centroids, cluster_map"
   ]
  },
  {
   "cell_type": "code",
   "execution_count": 16,
   "metadata": {},
   "outputs": [
    {
     "data": {
      "text/plain": [
       "['y',\n",
       " 'b',\n",
       " 'y',\n",
       " 'y',\n",
       " 'b',\n",
       " 'm',\n",
       " 'y',\n",
       " 'r',\n",
       " 'y',\n",
       " 'b',\n",
       " 'y',\n",
       " 'y',\n",
       " 'y',\n",
       " 'r',\n",
       " 'g',\n",
       " 'g',\n",
       " 'r',\n",
       " 'y']"
      ]
     },
     "execution_count": 16,
     "metadata": {},
     "output_type": "execute_result"
    }
   ],
   "source": [
    "colors_mapcolors_m  = {0: 'r', 1: 'g', 2: 'b', 3: 'y', 4: 'm'}\n",
    "colors = [colors_map[c] for c in cluster_map]\n",
    "colors"
   ]
  },
  {
   "cell_type": "code",
   "execution_count": 17,
   "metadata": {},
   "outputs": [
    {
     "data": {
      "text/plain": [
       "<matplotlib.axes._subplots.AxesSubplot at 0x7ebecd0>"
      ]
     },
     "execution_count": 17,
     "metadata": {},
     "output_type": "execute_result"
    },
    {
     "data": {
      "image/png": "[encoded data removed]",
      "text/plain": [
       "<matplotlib.figure.Figure at 0x6e577d0>"
      ]
     },
     "metadata": {},
     "output_type": "display_data"
    }
   ],
   "source": [
    "teams_pd.plot.scatter(x='cost', y='loses', c=colors, s=100)"
   ]
  }
 ],
 "metadata": {
  "kernelspec": {
   "display_name": "Python 3",
   "language": "python",
   "name": "python3"
  },
  "language_info": {
   "codemirror_mode": {
    "name": "ipython",
    "version": 3
   },
   "file_extension": ".py",
   "mimetype": "text/x-python",
   "name": "python",
   "nbconvert_exporter": "python",
   "pygments_lexer": "ipython3",
   "version": "3.6.1"
  }
 },
 "nbformat": 4,
 "nbformat_minor": 2
}
